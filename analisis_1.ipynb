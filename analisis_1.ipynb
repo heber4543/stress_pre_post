{
  "nbformat": 4,
  "nbformat_minor": 0,
  "metadata": {
    "colab": {
      "provenance": [],
      "mount_file_id": "1AIDLuQBZJRd1KPTZZ3stmbzsnD7Kn-AR",
      "authorship_tag": "ABX9TyOQyNdyzKZCuwC317kIdC92",
      "include_colab_link": true
    },
    "kernelspec": {
      "name": "python3",
      "display_name": "Python 3"
    },
    "language_info": {
      "name": "python"
    }
  },
  "cells": [
    {
      "cell_type": "markdown",
      "metadata": {
        "id": "view-in-github",
        "colab_type": "text"
      },
      "source": [
        "<a href=\"https://colab.research.google.com/github/heber4543/stress_pre_post/blob/main/analisis_1.ipynb\" target=\"_parent\"><img src=\"https://colab.research.google.com/assets/colab-badge.svg\" alt=\"Open In Colab\"/></a>"
      ]
    },
    {
      "cell_type": "code",
      "execution_count": null,
      "metadata": {
        "id": "rBYklb-18ajf"
      },
      "outputs": [],
      "source": [
        "import pandas as pd\n",
        "import numpy as np\n",
        "import unicodedata"
      ]
    },
    {
      "cell_type": "code",
      "source": [
        "# extracción de datos\n",
        "path = '/content/drive/MyDrive/analisis_datos/estres_pre_post/data.xlsx'\n",
        "data = pd.read_excel (path, sheet_name=None)\n",
        "pre = data ['pre']\n",
        "post = data ['post']"
      ],
      "metadata": {
        "id": "IanZ7asU8qWF"
      },
      "execution_count": 123,
      "outputs": []
    },
    {
      "cell_type": "code",
      "source": [
        "# funcion para quitar acentos\n",
        "def remove_accents(text):\n",
        "    return ''.join(c for c in unicodedata.normalize('NFD', text) if unicodedata.category(c) != 'Mn')\n",
        "\n",
        "# funcion para aplicar todas las transformaciones necesarias\n",
        "def transform_text(text):\n",
        "    if isinstance(text, str):\n",
        "        text = text.lower()\n",
        "        text = remove_accents(text)\n",
        "        if text.endswith('.'):\n",
        "            text = text[:-1]\n",
        "    return text"
      ],
      "metadata": {
        "id": "W83PXRRc8sS2"
      },
      "execution_count": 125,
      "outputs": []
    },
    {
      "cell_type": "code",
      "source": [
        "# aplicar funcion a ambos df\n",
        "pre = pre.applymap(transform_text)\n",
        "post = post.applymap(transform_text)"
      ],
      "metadata": {
        "collapsed": true,
        "id": "QFQvfKq_8zGl"
      },
      "execution_count": 126,
      "outputs": []
    },
    {
      "cell_type": "code",
      "source": [
        "# eliminar columnas innecesarias\n",
        "pre = pre.drop(columns=[1.3, 1.4, 1.5, 2.3, 2.4, 3.3,\n",
        "                        3.4, 6.5, 6.6, 7.5, 11.1, 15.1])\n",
        "post = post.drop(columns=[1.3, 1.4, 1.5, 2.3, 2.4, 3.3,\n",
        "                          3.4, 6.5, 6.6, 7.5, 11.1, 15.1])"
      ],
      "metadata": {
        "collapsed": true,
        "id": "E8_9p-g880Uz"
      },
      "execution_count": 127,
      "outputs": []
    },
    {
      "cell_type": "code",
      "source": [
        "# guardad nuevas hojas de calculo\n",
        "pre.to_csv('pre.csv', index=False)\n",
        "post.to_csv('post.csv', index=False)"
      ],
      "metadata": {
        "id": "SPiV1X7UvnD7"
      },
      "execution_count": 128,
      "outputs": []
    },
    {
      "cell_type": "code",
      "source": [
        "# dataframes corregidos\n",
        "path1 = '/content/drive/MyDrive/analisis_datos/estres_pre_post/pre.csv'\n",
        "path2 = '/content/drive/MyDrive/analisis_datos/estres_pre_post/post.csv'\n",
        "\n",
        "pre_new = pd.read_csv (path1)\n",
        "post_new = pd.read_csv (path2)"
      ],
      "metadata": {
        "id": "2aKwuUYMzD5V"
      },
      "execution_count": 170,
      "outputs": []
    },
    {
      "cell_type": "code",
      "source": [
        "pre_new.columns"
      ],
      "metadata": {
        "colab": {
          "base_uri": "https://localhost:8080/"
        },
        "id": "Owv-gkI8-N_s",
        "outputId": "79d19e6b-bb4b-4ad1-bf24-ec26f74bd96b"
      },
      "execution_count": 95,
      "outputs": [
        {
          "output_type": "execute_result",
          "data": {
            "text/plain": [
              "Index(['NOMBRE', '1.1', '1.2', '2.1', '2.2', '3.1', '3.2', '4.1', '5.1', '5.2',\n",
              "       '5.3', '5.4', '5.5', '6.1', '6.2', '6.3', '6.4', '7.1', '7.2', '7.3',\n",
              "       '7.4', '8.1', '8.2', '8.3', '8.4', '8.5', '10.1', '10.2', '10.3',\n",
              "       '10.4'],\n",
              "      dtype='object')"
            ]
          },
          "metadata": {},
          "execution_count": 95
        }
      ]
    },
    {
      "cell_type": "code",
      "source": [
        "post_new.columns"
      ],
      "metadata": {
        "colab": {
          "base_uri": "https://localhost:8080/"
        },
        "collapsed": true,
        "id": "Dpa7PYK_0J5Y",
        "outputId": "d926f310-93a0-44a1-d133-d51ee5a9acfc"
      },
      "execution_count": 96,
      "outputs": [
        {
          "output_type": "execute_result",
          "data": {
            "text/plain": [
              "Index(['NOMBRE', '1.1', '1.2', '2.1', '2.2', '3.1', '3.2', '4.1', '5.1', '5.2',\n",
              "       '5.3', '5.4', '5.5', '6.1', '6.2', '6.3', '6.4', '7.1', '7.2', '7.3',\n",
              "       '7.4', '8.1', '8.2', '8.3', '8.4', '8.5', '10.1', '10.2', '10.3',\n",
              "       '10.4'],\n",
              "      dtype='object')"
            ]
          },
          "metadata": {},
          "execution_count": 96
        }
      ]
    },
    {
      "cell_type": "code",
      "source": [
        "# cambiar valores con si, a veces, no\n",
        "reemplazos = {'si': 2, 'a veces': 1, 'no': 0}\n",
        "columnas_reemplazo = ['1.1', '2.1', '3.1', '5.2', '5.3',\n",
        "                      '5.4', '7.1', '7.4', '8.1']\n",
        "\n",
        "def reemplazo (df):\n",
        "  for i in columnas_reemplazo:\n",
        "    df[i] = df[i].replace(reemplazos)\n",
        "    df[i] = pd.Categorical(df[i], categories=[0, 1, 2], ordered=False)\n",
        "  return df"
      ],
      "metadata": {
        "collapsed": true,
        "id": "deXD_K-KEV7w"
      },
      "execution_count": 130,
      "outputs": []
    },
    {
      "cell_type": "code",
      "source": [
        "# cambiar valores con si, no\n",
        "reemplazos1 = {'si': 1, 'no': 0}\n",
        "columnas_reemplazo1 = ['5.1', '6.1']\n",
        "\n",
        "def reemplazo1 (df):\n",
        "  for i in columnas_reemplazo1:\n",
        "    df[i] = df[i].replace(reemplazos1)\n",
        "    df[i] = pd.Categorical(df[i], categories=[0, 1], ordered=False)\n",
        "  return df"
      ],
      "metadata": {
        "collapsed": true,
        "id": "UNinWkN7HEEe"
      },
      "execution_count": 131,
      "outputs": []
    },
    {
      "cell_type": "code",
      "source": [
        "# cambiar valores con todos los dias, una vez por semana, cada 15 dias, nunca\n",
        "reemplazos2 = {'todos los dias': 3, 'una vez por semana': 2,\n",
        "               'cada 15 dias': 1, 'nunca': 0}\n",
        "columnas_reemplazo2 = ['1.2', '2.2', '6.2', '7.2']\n",
        "\n",
        "def reemplazo2 (df):\n",
        "  for i in columnas_reemplazo2:\n",
        "    df[i] = df[i].replace(reemplazos2)\n",
        "    df[i] = pd.Categorical(df[i], categories=[0, 1, 2, 3], ordered=True)\n",
        "  return df"
      ],
      "metadata": {
        "collapsed": true,
        "id": "ASS18DRELzlW"
      },
      "execution_count": 146,
      "outputs": []
    },
    {
      "cell_type": "code",
      "source": [
        "# cambiar valores con todos los dias, una vez por semana, cada 15 dias\n",
        "reemplazos3 = {'todos los dias': 2, 'una vez por semana': 1, 'cada 15 dias': 0}\n",
        "columnas_reemplazo3 = ['3.2']\n",
        "\n",
        "def reemplazo3 (df):\n",
        "  for i in columnas_reemplazo3:\n",
        "    df[i] = df[i].replace(reemplazos3)\n",
        "    df[i] = pd.Categorical(df[i], categories=[0, 1, 2], ordered=True)\n",
        "  return df"
      ],
      "metadata": {
        "collapsed": true,
        "id": "fp5Sny_2L281"
      },
      "execution_count": 133,
      "outputs": []
    },
    {
      "cell_type": "code",
      "source": [
        "# cambiar valores con duermo las horas necesarias, hay dias que no duermo\n",
        "#lo suficiente, paso varios dias sin dormir\n",
        "reemplazos4 = {'duermo las horas necesarias': 2,\n",
        "               'hay dias que no duermo lo suficiente': 1,\n",
        "               'paso varios dias sin dormir': 0}\n",
        "columnas_reemplazo4 = ['4.1']\n",
        "\n",
        "def reemplazo4 (df):\n",
        "  for i in columnas_reemplazo4:\n",
        "    df[i] = df[i].replace(reemplazos4)\n",
        "    df[i] = pd.Categorical(df[i], categories=[2, 1, 0], ordered=True)\n",
        "  return df"
      ],
      "metadata": {
        "collapsed": true,
        "id": "NtN20n3mQ0Qk"
      },
      "execution_count": 134,
      "outputs": []
    },
    {
      "cell_type": "code",
      "source": [
        "# cambiar valores con varias veces, una vez y nunca\n",
        "reemplazos5 = {'varias veces': 2, 'una vez': 1, 'nunca': 0}\n",
        "columnas_reemplazo5 = ['5.5']\n",
        "\n",
        "def reemplazo5 (df):\n",
        "  for i in columnas_reemplazo5:\n",
        "    df[i] = df[i].replace(reemplazos5)\n",
        "    df[i] = pd.Categorical(df[i], categories=[0, 1, 2], ordered=True)\n",
        "  return df"
      ],
      "metadata": {
        "collapsed": true,
        "id": "fsqLdvj-SA9e"
      },
      "execution_count": 135,
      "outputs": []
    },
    {
      "cell_type": "code",
      "source": [
        "# cambiar valores con siempre, frecuentemente, a veces y nunca\n",
        "reemplazos6 = {'siempre': 3, 'frecuentemente': 2, 'a veces': 1, 'nunca': 0}\n",
        "columnas_reemplazo6 = ['6.3', '6.4']\n",
        "\n",
        "def reemplazo6 (df):\n",
        "  for i in columnas_reemplazo6:\n",
        "    df[i] = df[i].replace(reemplazos6)\n",
        "    df[i] = pd.Categorical(df[i], categories=[0, 1, 2, 3], ordered=True)\n",
        "  return df"
      ],
      "metadata": {
        "collapsed": true,
        "id": "maJPztgsTOPx"
      },
      "execution_count": 136,
      "outputs": []
    },
    {
      "cell_type": "code",
      "source": [
        "# cambiar valores con varias veces al día, cada que puedo,\n",
        "# cada vez que me comparten, nunca\n",
        "reemplazos7 = {'varias veces al día': 3, 'cada que puedo': 2,\n",
        "               'cada vez que me comparten': 1, 'nunca': 0}\n",
        "columnas_reemplazo7 = ['7.3']\n",
        "\n",
        "def reemplazo7 (df):\n",
        "  for i in columnas_reemplazo7:\n",
        "    df[i] = df[i].replace(reemplazos7)\n",
        "    df[i] = pd.Categorical(df[i], categories=[0, 1, 2, 3], ordered=True)\n",
        "  return df"
      ],
      "metadata": {
        "collapsed": true,
        "id": "ngZtl1LnUXZd"
      },
      "execution_count": 137,
      "outputs": []
    },
    {
      "cell_type": "code",
      "source": [
        "# cambiar valores con todos los dias, una o dos veces a la semana, cada 15 dias\n",
        "reemplazos9 = {'todos los dias': 2, 'una o dos veces a la semana': 1,\n",
        "               'cada 15 dias': 0}\n",
        "columnas_reemplazo9 = ['8.2']\n",
        "\n",
        "def reemplazo9 (df):\n",
        "  for i in columnas_reemplazo9:\n",
        "    df[i] = df[i].replace(reemplazos9)\n",
        "    df[i] = pd.Categorical(df[i], categories=[0, 1, 2], ordered=True)\n",
        "  return df"
      ],
      "metadata": {
        "collapsed": true,
        "id": "0Qm7EBhMVw_w"
      },
      "execution_count": 138,
      "outputs": []
    },
    {
      "cell_type": "code",
      "source": [
        "# cambiar valores con no tomo, cerveza, tequila o vodka, cualquier cosa\n",
        "reemplazos10 = {'cualquier cosa': 3, 'no tomo': 2, 'cerveza': 1, 'tequila o vodka': 0}\n",
        "columnas_reemplazo10 = ['8.3']\n",
        "\n",
        "def reemplazo10 (df):\n",
        "  for i in columnas_reemplazo10:\n",
        "    df[i] = df[i].replace(reemplazos10)\n",
        "    df[i] = pd.Categorical(df[i], categories=[0, 1, 2, 3], ordered=False)\n",
        "  return df"
      ],
      "metadata": {
        "collapsed": true,
        "id": "hn1kbhZyXGW9"
      },
      "execution_count": 139,
      "outputs": []
    },
    {
      "cell_type": "code",
      "source": [
        "# cambiar valores con no tomo, entre 15 y 18 años,\n",
        "# entre 11 y 15 años, antes de los 11\n",
        "reemplazos11 = {'entre 15 y 18 anos': 3, 'entre 11 y 15 anos': 2,\n",
        "                'antes de los 11': 1, 'no tomo': 0}\n",
        "columnas_reemplazo11 = ['8.4']\n",
        "\n",
        "def reemplazo11 (df):\n",
        "  for i in columnas_reemplazo11:\n",
        "    df[i] = df[i].replace(reemplazos11)\n",
        "    df[i] = pd.Categorical(df[i], categories=[0, 1, 2, 3], ordered=False)\n",
        "  return df"
      ],
      "metadata": {
        "collapsed": true,
        "id": "B7IrPPLhlU2N"
      },
      "execution_count": 140,
      "outputs": []
    },
    {
      "cell_type": "code",
      "source": [
        "# cambiar valores con no tomo, con amigos, con amigos y familiares,\n",
        "# con amigos, familia y solo\n",
        "reemplazos12 = {'con amigos, familia y solo': 3, 'con amigos y familiares': 2,\n",
        "                'con amigos': 1, 'no tomo': 0}\n",
        "columnas_reemplazo12 = ['8.5']\n",
        "\n",
        "def reemplazo12 (df):\n",
        "  for i in columnas_reemplazo12:\n",
        "    df[i] = df[i].replace(reemplazos12)\n",
        "    df[i] = pd.Categorical(df[i], categories=[0, 1, 2, 3], ordered=False)\n",
        "  return df"
      ],
      "metadata": {
        "id": "7Jn33wK5p5zT",
        "collapsed": true
      },
      "execution_count": 172,
      "outputs": []
    },
    {
      "cell_type": "code",
      "source": [
        "# cambiar valores con nunca, si en un grupo de amigos / familia,\n",
        "# si en la escuela / barrio, en todas partes\n",
        "reemplazos13 = {'en todas partes': 3,\n",
        "                'si en un grupo de amigos / familia': 2,\n",
        "                'si en la escuela / barrio': 1, 'nunca': 0}\n",
        "columnas_reemplazo13 = ['10.1']\n",
        "\n",
        "def reemplazo13 (df):\n",
        "  for i in columnas_reemplazo13:\n",
        "    df[i] = df[i].replace(reemplazos13)\n",
        "    df[i] = pd.Categorical(df[i], categories=[0, 1, 2, 3], ordered=False)\n",
        "  return df"
      ],
      "metadata": {
        "id": "_kz_4jic6F1k"
      },
      "execution_count": 155,
      "outputs": []
    },
    {
      "cell_type": "code",
      "source": [
        "# cambiar valores con nunca, si en un grupo de amigos / familia,\n",
        "# si en la escuela / barrio, en todas partes\n",
        "reemplazos14 = {'si en todas partes': 3,\n",
        "                'si a amigos / familia': 2,\n",
        "                'si en la escuela / barrio': 1, 'nunca': 0}\n",
        "columnas_reemplazo14 = ['10.2']\n",
        "\n",
        "def reemplazo14 (df):\n",
        "  for i in columnas_reemplazo14:\n",
        "    df[i] = df[i].replace(reemplazos14)\n",
        "    df[i] = pd.Categorical(df[i], categories=[0, 1, 2, 3], ordered=False)\n",
        "  return df"
      ],
      "metadata": {
        "id": "padP1Eee8kAq"
      },
      "execution_count": 160,
      "outputs": []
    },
    {
      "cell_type": "code",
      "source": [
        "# cambiar valores con muchas veces, varias veces, una vez y nunca\n",
        "reemplazos15 = {'muchas veces': 3,\n",
        "                'varias veces': 2,\n",
        "                'una vez': 1, 'nunca': 0}\n",
        "columnas_reemplazo15 = ['10.3']\n",
        "\n",
        "def reemplazo15 (df):\n",
        "  for i in columnas_reemplazo15:\n",
        "    df[i] = df[i].replace(reemplazos15)\n",
        "    df[i] = pd.Categorical(df[i], categories=[0, 1, 2, 3], ordered=True)\n",
        "  return df"
      ],
      "metadata": {
        "id": "tgHYsmmr9PW0"
      },
      "execution_count": 165,
      "outputs": []
    },
    {
      "cell_type": "code",
      "source": [
        "# cambiar valores con nunca me he pelado, despues de los 15 anos,\n",
        "# entre los 11 y los 15 anos, antes los 11\n",
        "reemplazos16 = {'antes los 11': 3,\n",
        "                'entre los 11 y los 15 anos': 2,\n",
        "                'despues de los 15 anos': 1,\n",
        "                'nunca me he peleado': 0}\n",
        "columnas_reemplazo16 = ['10.4']\n",
        "\n",
        "def reemplazo16 (df):\n",
        "  for i in columnas_reemplazo16:\n",
        "    df[i] = df[i].replace(reemplazos16)\n",
        "    df[i] = pd.Categorical(df[i], categories=[0, 1, 2, 3], ordered=False)\n",
        "  return df"
      ],
      "metadata": {
        "id": "U_ylra579rai"
      },
      "execution_count": 168,
      "outputs": []
    },
    {
      "cell_type": "code",
      "source": [
        "reemplazo16 (pre_new)\n",
        "reemplazo16 (post_new)\n",
        "reemplazo15 (pre_new)\n",
        "reemplazo15 (post_new)\n",
        "reemplazo14 (pre_new)\n",
        "reemplazo14 (post_new)\n",
        "reemplazo13 (pre_new)\n",
        "reemplazo13 (post_new)\n",
        "reemplazo12 (pre_new)\n",
        "reemplazo12 (post_new)\n",
        "reemplazo11 (pre_new)\n",
        "reemplazo11 (post_new)\n",
        "reemplazo10 (pre_new)\n",
        "reemplazo10 (post_new)\n",
        "reemplazo9 (pre_new)\n",
        "reemplazo9 (post_new)\n",
        "reemplazo7 (pre_new)\n",
        "reemplazo7 (post_new)\n",
        "reemplazo6 (pre_new)\n",
        "reemplazo6 (post_new)\n",
        "reemplazo5 (pre_new)\n",
        "reemplazo5 (post_new)\n",
        "reemplazo4 (pre_new)\n",
        "reemplazo4 (post_new)\n",
        "reemplazo3 (pre_new)\n",
        "reemplazo3 (post_new)\n",
        "reemplazo2 (pre_new)\n",
        "reemplazo2 (post_new)\n",
        "reemplazo1 (pre_new)\n",
        "reemplazo1 (post_new)\n",
        "reemplazo (pre_new)\n",
        "reemplazo (post_new)"
      ],
      "metadata": {
        "id": "3OMSwjiFqchp",
        "collapsed": true
      },
      "execution_count": null,
      "outputs": []
    },
    {
      "cell_type": "code",
      "source": [],
      "metadata": {
        "id": "XuWbQQbm8PBD"
      },
      "execution_count": null,
      "outputs": []
    }
  ]
}